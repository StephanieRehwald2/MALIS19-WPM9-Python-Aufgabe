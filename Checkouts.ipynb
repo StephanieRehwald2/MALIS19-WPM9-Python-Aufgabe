{
 "cells": [
  {
   "cell_type": "markdown",
   "metadata": {},
   "source": [
    "# Import der benötigten Packages"
   ]
  },
  {
   "cell_type": "code",
   "execution_count": 1,
   "metadata": {},
   "outputs": [],
   "source": [
    "import urllib.request\n",
    "import pandas as pd\n",
    "\n",
    "import matplotlib.pyplot as plt"
   ]
  },
  {
   "cell_type": "markdown",
   "metadata": {},
   "source": [
    "# Import der Daten\n",
    "Seattle Public Library   \n",
    "\"checkouts by title for physical and electronic items\"  \n",
    "monatliche Ausleihen seit April 2005  \n",
    "Diese Datei enthält über 37 Mio Zeilen und 11 Spalten.  \n",
    "Diese Größe ist beim Download unhandlich, daher lade ich einzelne Ausleihjahre mit \"where=checkoutyear= \".  \n",
    "Offenbar werden per default nur 1000 Einträge geladen, daher setze ich das Limit manuell hoch mit \"limit=...\"."
   ]
  },
  {
   "cell_type": "code",
   "execution_count": 2,
   "metadata": {},
   "outputs": [],
   "source": [
    "# Festlegung der URL mit Eingrenzung des Ausleihjahres und der Anzahl von Zeilen\n",
    "checkout_url = \"https://data.seattle.gov/resource/tmmm-ytt6.csv?$where=checkoutyear=2020&$limit=2000000\"\n",
    "checkouts_file = \"checkouts.csv\""
   ]
  },
  {
   "cell_type": "code",
   "execution_count": null,
   "metadata": {},
   "outputs": [],
   "source": [
    "# Download der Daten\n",
    "urllib.request.urlretrieve(checkout_url, checkouts_file)"
   ]
  },
  {
   "cell_type": "code",
   "execution_count": null,
   "metadata": {},
   "outputs": [],
   "source": [
    "# Überführung in ein Python-Objekt\n",
    "checkouts = pd.read_csv(checkouts_file)"
   ]
  },
  {
   "cell_type": "markdown",
   "metadata": {},
   "source": [
    "# Erster Blick auf die Daten"
   ]
  },
  {
   "cell_type": "code",
   "execution_count": null,
   "metadata": {},
   "outputs": [],
   "source": [
    "# Welche Spalten sind enthalten?\n",
    "checkouts.columns"
   ]
  },
  {
   "cell_type": "code",
   "execution_count": null,
   "metadata": {},
   "outputs": [],
   "source": [
    "type(checkouts)"
   ]
  },
  {
   "cell_type": "code",
   "execution_count": null,
   "metadata": {},
   "outputs": [],
   "source": [
    "# Anzahl der Einträge für das Ausleihjahr - erster Versuch - so erhält man leider keinen INT zurück:\n",
    "print(checkouts.index)"
   ]
  },
  {
   "cell_type": "code",
   "execution_count": null,
   "metadata": {},
   "outputs": [],
   "source": [
    "# Anzahl der Einträge für das Ausleihjahr - size liefert row x columns als float\n",
    "int(checkouts.size / 11)"
   ]
  },
  {
   "cell_type": "code",
   "execution_count": null,
   "metadata": {},
   "outputs": [],
   "source": [
    "# Daten ansehen\n",
    "checkouts"
   ]
  },
  {
   "cell_type": "markdown",
   "metadata": {},
   "source": [
    "# Analyse der Daten"
   ]
  },
  {
   "cell_type": "code",
   "execution_count": null,
   "metadata": {},
   "outputs": [],
   "source": [
    "%matplotlib inline"
   ]
  },
  {
   "cell_type": "markdown",
   "metadata": {},
   "source": [
    "## 1) Wie verteilen sich die Ausleihen auf die unterschiedlichen Ausleihtypen?"
   ]
  },
  {
   "cell_type": "code",
   "execution_count": null,
   "metadata": {},
   "outputs": [],
   "source": [
    "# Verteilung nach Checkouttypen\n",
    "# Histogramm plotten\n",
    "checkouts[\"checkouttype\"].hist(color=\"red\")\n",
    "plt.title(\"Checkouttypen\")\n",
    "plt.xlabel(\"Checkouttyp\")\n",
    "plt.ylabel(\"Häufigkeit\")\n",
    "plt.show()"
   ]
  },
  {
   "cell_type": "markdown",
   "metadata": {},
   "source": [
    "Es gibt nur zwei Checkouttypen: Horizon und Overdrive."
   ]
  },
  {
   "cell_type": "markdown",
   "metadata": {},
   "source": [
    "## 2) Wie ist das Verhältnis von digitalen und physischen Ausleihen?"
   ]
  },
  {
   "cell_type": "code",
   "execution_count": null,
   "metadata": {},
   "outputs": [],
   "source": [
    "# Histogramm plotten\n",
    "checkouts[\"usageclass\"].hist(color=\"blue\")\n",
    "plt.title(\"Art der Ausleihe\")\n",
    "plt.xlabel(\"Medium\")\n",
    "plt.ylabel(\"Häufigkeit\")\n",
    "plt.show()"
   ]
  },
  {
   "cell_type": "markdown",
   "metadata": {},
   "source": [
    "Wie lauten die genauen Zahlen der digitalen Ausleihen?"
   ]
  },
  {
   "cell_type": "code",
   "execution_count": null,
   "metadata": {},
   "outputs": [],
   "source": [
    "checkouts.usageclass.count()\n",
    "# dies gibt offenbar die Gesamtzahl"
   ]
  },
  {
   "cell_type": "code",
   "execution_count": null,
   "metadata": {},
   "outputs": [],
   "source": [
    "type(checkouts[\"usageclass\"])"
   ]
  },
  {
   "cell_type": "code",
   "execution_count": null,
   "metadata": {},
   "outputs": [],
   "source": [
    "# Ausprobieren: Ansprechen über Index funktionert?\n",
    "print(checkouts[\"usageclass\"][3])"
   ]
  },
  {
   "cell_type": "code",
   "execution_count": null,
   "metadata": {},
   "outputs": [],
   "source": [
    "# count funktioniert nur für Listen:\n",
    "checkouts[\"usageclass\"].tolist().count(\"Digital\")"
   ]
  },
  {
   "cell_type": "code",
   "execution_count": null,
   "metadata": {},
   "outputs": [],
   "source": [
    "# count funktioniert nur für Listen:\n",
    "checkouts[\"usageclass\"].tolist().count(\"Physical\")"
   ]
  },
  {
   "cell_type": "code",
   "execution_count": null,
   "metadata": {
    "scrolled": true
   },
   "outputs": [],
   "source": [
    "# Anzahl als Variable\n",
    "Anzahl_digital = checkouts[\"usageclass\"].tolist().count(\"Digital\")\n",
    "Anzahl_digital"
   ]
  },
  {
   "cell_type": "code",
   "execution_count": null,
   "metadata": {},
   "outputs": [],
   "source": [
    "# Anzahl als Variable\n",
    "Anzahl_physisch = checkouts[\"usageclass\"].tolist().count(\"Physical\")\n",
    "Anzahl_physisch"
   ]
  },
  {
   "cell_type": "code",
   "execution_count": null,
   "metadata": {},
   "outputs": [],
   "source": [
    "#Das gefällt mir noch nicht - ich möchte direkt beides haben für \"Digital\" und \"physical\"\n",
    "mediatype = pd.Index(checkouts.usageclass)\n",
    "mediatype_table = mediatype.value_counts()\n",
    "print(\"Die Ausleihen verteilen sich folgendermaßen auf digitale und physische Ausleihen:\")\n",
    "print(mediatype_table)"
   ]
  },
  {
   "cell_type": "code",
   "execution_count": null,
   "metadata": {},
   "outputs": [],
   "source": [
    "# Darstellung als Kreisdiagramm\n",
    "mediatype_table.plot.pie()\n",
    "plt.title(\"Art der Ausleihe\")\n",
    "plt.ylabel(\" \")\n",
    "plt.show()"
   ]
  },
  {
   "cell_type": "code",
   "execution_count": null,
   "metadata": {},
   "outputs": [],
   "source": [
    "# Verhältnis bestimmen:\n",
    "ratio = str(int((Anzahl_digital/(Anzahl_digital+Anzahl_physisch))*100))\n",
    "print(\"Es werden \" + ratio + \"% der Ausleihen digital getätigt.\")"
   ]
  },
  {
   "cell_type": "markdown",
   "metadata": {},
   "source": [
    "## 3) Entwicklung der digitalen Ausleihen über die Jahre\n",
    "Wie hat sich der Anteil der Ausleihe in digitaler Form über die Jahre 2015-2020 entwickelt?    \n",
    "Umsetzung: Die Werte für die einzelnen Ausleihjahre sollen über eine for-Schleife erzeugt werden."
   ]
  },
  {
   "cell_type": "markdown",
   "metadata": {},
   "source": [
    "**Schritte zur Vorbereitung:**"
   ]
  },
  {
   "cell_type": "code",
   "execution_count": null,
   "metadata": {},
   "outputs": [],
   "source": [
    "# Darstellung der URL mit Jahreszahl als Variablen, exemplarische Rechnung: Limit hier 1000  \n",
    "jahr = 2015\n",
    "checkout_url = \"https://data.seattle.gov/resource/tmmm-ytt6.csv?$where=checkoutyear=\" +str(jahr) + \"&$limit=1000\"\n",
    "print(checkout_url)"
   ]
  },
  {
   "cell_type": "code",
   "execution_count": null,
   "metadata": {},
   "outputs": [],
   "source": [
    "# Abfrage mehrerer Ausleihjahre über for-Schleife: \n",
    "# (eigentlich sollte xrange für Interation genutzt werden, aber dieser Befehl wird hier nicht erkannt, Fehler nicht gefunden)\n",
    "for i in range(0, 6):\n",
    "    jahr = 2015 + i\n",
    "    print(jahr)"
   ]
  },
  {
   "cell_type": "code",
   "execution_count": null,
   "metadata": {},
   "outputs": [],
   "source": [
    "for i in range(0, 6):\n",
    "    jahr = 2015 + i\n",
    "    checkout_url = \"https://data.seattle.gov/resource/tmmm-ytt6.csv?$where=checkoutyear=\" +str(jahr) + \"&$limit=1000\"\n",
    "    print(checkout_url)"
   ]
  },
  {
   "cell_type": "markdown",
   "metadata": {},
   "source": [
    "**Zusammensetzen zur endgültigen Schleife:**"
   ]
  },
  {
   "cell_type": "code",
   "execution_count": null,
   "metadata": {},
   "outputs": [],
   "source": [
    "for i in range(0, 6):\n",
    "    jahr = 2015 + i\n",
    "    checkout_url = \"https://data.seattle.gov/resource/tmmm-ytt6.csv?$where=checkoutyear=\" +str(jahr) + \"&$limit=1000\"\n",
    "    checkouts_file = \"checkouts.csv\"\n",
    "    # Download der Daten\n",
    "    urllib.request.urlretrieve(checkout_url, checkouts_file)\n",
    "    # Überführung in ein Python-Objekt\n",
    "    checkouts = pd.read_csv(checkouts_file)\n",
    "    # Anzahl\n",
    "    Anzahl_digital = checkouts[\"usageclass\"].tolist().count(\"Digital\")\n",
    "    Anzahl_physisch = checkouts[\"usageclass\"].tolist().count(\"Physical\")\n",
    "    # Verhältnis:\n",
    "    ratio = int((Anzahl_digital/(Anzahl_digital+Anzahl_physisch))*100)\n",
    "    print(jahr)\n",
    "    print(\"Digital:\" + str(Anzahl_digital))\n",
    "    print(\"Physical:\" + str(Anzahl_physisch))\n",
    "    print(\"Anteil Digital:\" + str(ratio) + \"%\")"
   ]
  },
  {
   "cell_type": "markdown",
   "metadata": {},
   "source": [
    "**Ausgabe als Tabelle und Diagramm**"
   ]
  },
  {
   "cell_type": "markdown",
   "metadata": {},
   "source": [
    "Die Plot-Funktionen in Pandas brauchen als Input Series oder DataFrames. Diese müssen als erstes gebaut werden:  \n",
    "Erstellung von drei Listen:  \n",
    "1)alle Ausleihen Digital  \n",
    "2)alle Ausleihen Physical  \n",
    "3)Ausleihjahre  \n",
    "Daraus wird dann ein DataFrame mit den Columns \"Digital\" und \"Physical\" und dem Index \"Jahre\" erstellt."
   ]
  },
  {
   "cell_type": "code",
   "execution_count": null,
   "metadata": {},
   "outputs": [],
   "source": [
    "# Ausprobieren:"
   ]
  },
  {
   "cell_type": "code",
   "execution_count": null,
   "metadata": {},
   "outputs": [],
   "source": [
    "# außerhalb der Schleife:\n",
    "#Ausleihjahre = []\n",
    "#Digi_Ausleihen = []\n",
    "#Phys_Ausleihen = []\n",
    "# innerhalb der Schleife:\n",
    "#Ausleihjahre.append(jahr)\n",
    "#Digi_Ausleihen.append(Anzahl_digital)\n",
    "#Phys_Ausleihen.append(Anzahl_physisch)"
   ]
  },
  {
   "cell_type": "code",
   "execution_count": null,
   "metadata": {},
   "outputs": [],
   "source": [
    "Ausleihjahre = []\n",
    "Digi_Ausleihen = []\n",
    "Phys_Ausleihen = []\n",
    "for i in range(0, 6):\n",
    "    jahr = 2015 + i\n",
    "    checkout_url = \"https://data.seattle.gov/resource/tmmm-ytt6.csv?$where=checkoutyear=\" +str(jahr) + \"&$limit=1000\"\n",
    "    checkouts_file = \"checkouts.csv\"\n",
    "    # Download der Daten\n",
    "    urllib.request.urlretrieve(checkout_url, checkouts_file)\n",
    "    # Überführung in ein Python-Objekt\n",
    "    checkouts = pd.read_csv(checkouts_file)\n",
    "    # Anzahl\n",
    "    Anzahl_digital = checkouts[\"usageclass\"].tolist().count(\"Digital\")\n",
    "    Anzahl_physisch = checkouts[\"usageclass\"].tolist().count(\"Physical\")\n",
    "    # Verhältnis:\n",
    "    ratio = int((Anzahl_digital/(Anzahl_digital+Anzahl_physisch))*100)\n",
    "    # Schreiben in Listen\n",
    "    Ausleihjahre.append(jahr)\n",
    "    Digi_Ausleihen.append(Anzahl_digital)\n",
    "    Phys_Ausleihen.append(Anzahl_physisch)\n",
    "    \n",
    "print(\"Ausleihjahre\")\n",
    "print(Ausleihjahre)\n",
    "print(\"Digitale Ausleihen\")\n",
    "print(Digi_Ausleihen)\n",
    "print(\"Physische Ausleihen\")\n",
    "print(Phys_Ausleihen)"
   ]
  },
  {
   "cell_type": "code",
   "execution_count": null,
   "metadata": {},
   "outputs": [],
   "source": [
    "# Dictionary erstellen\n",
    "d = {\n",
    "    \"Digital\": pd.Series(Digi_Ausleihen, index = Ausleihjahre),\n",
    "    \"Physical\": pd.Series(Phys_Ausleihen, index = Ausleihjahre),   \n",
    "    }\n",
    "# daraus DataFrame erstellen\n",
    "df = pd.DataFrame(d)\n",
    "df"
   ]
  },
  {
   "cell_type": "code",
   "execution_count": null,
   "metadata": {},
   "outputs": [],
   "source": [
    "# als Diagramm über die Zeit\n",
    "ts = pd.Series(Digi_Ausleihen, index=Ausleihjahre)\n",
    "ts.plot()\n",
    "plt.title(\"Entwicklung der digitalen Ausleihen\")\n",
    "plt.xlabel(\"Ausleihjahr\")\n",
    "plt.ylabel(\"Anzahl Ausleihen\")\n",
    "plt.show()"
   ]
  },
  {
   "cell_type": "code",
   "execution_count": null,
   "metadata": {},
   "outputs": [],
   "source": [
    "# beide in einem Diagramm darstellen\n",
    "df.plot()\n",
    "plt.title(\"Entwicklung des Ausleihtyps über die Jahre\")\n",
    "plt.xlabel(\"Ausleihjahr\")\n",
    "plt.ylabel(\"Anzahl Ausleihen\")\n",
    "plt.show()"
   ]
  },
  {
   "cell_type": "code",
   "execution_count": null,
   "metadata": {},
   "outputs": [],
   "source": []
  }
 ],
 "metadata": {
  "kernelspec": {
   "display_name": "Python 3",
   "language": "python",
   "name": "python3"
  },
  "language_info": {
   "codemirror_mode": {
    "name": "ipython",
    "version": 3
   },
   "file_extension": ".py",
   "mimetype": "text/x-python",
   "name": "python",
   "nbconvert_exporter": "python",
   "pygments_lexer": "ipython3",
   "version": "3.8.5"
  }
 },
 "nbformat": 4,
 "nbformat_minor": 4
}
