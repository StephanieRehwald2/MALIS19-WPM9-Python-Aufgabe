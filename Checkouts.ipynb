{
 "cells": [
  {
   "cell_type": "markdown",
   "metadata": {},
   "source": [
    "# Import der benötigten Packages"
   ]
  },
  {
   "cell_type": "code",
   "execution_count": 1,
   "metadata": {},
   "outputs": [],
   "source": [
    "import urllib.request\n",
    "import pandas as pd\n",
    "\n",
    "import matplotlib.pyplot as plt"
   ]
  },
  {
   "cell_type": "markdown",
   "metadata": {},
   "source": [
    "# Import der Daten\n",
    "Seattle Public Library  \n",
    "\"checkouts by title for physical and electronic items\"  \n",
    "monatliche Ausleihen seit April 2005   \n",
    "Diese Datei enthält über 37 Mio Zeilen und 11 Spalten.  \n",
    "Diese Größe ist beim Download unhandlich, daher lade ich einzelne Ausleihjahre mit \"where=checkoutyear= \".  \n",
    "Offenbar werden per default nur 1000 Einträge geladen, daher setze ich das Limit manuell hoch mit \"limit=...\"."
   ]
  },
  {
   "cell_type": "code",
   "execution_count": 2,
   "metadata": {},
   "outputs": [],
   "source": [
    "# Festlegung der URL mit Eingrenzung des Ausleihjahres und der Anzahl von Zeilen\n",
    "checkout_url = \"https://data.seattle.gov/resource/tmmm-ytt6.csv?$where=checkoutyear=2020&$limit=2000000\"\n",
    "checkouts_file = \"checkouts.csv\""
   ]
  },
  {
   "cell_type": "code",
   "execution_count": 3,
   "metadata": {},
   "outputs": [
    {
     "data": {
      "text/plain": [
       "('checkouts.csv', <http.client.HTTPMessage at 0xc09aac0>)"
      ]
     },
     "execution_count": 3,
     "metadata": {},
     "output_type": "execute_result"
    }
   ],
   "source": [
    "# Download der Daten\n",
    "urllib.request.urlretrieve(checkout_url, checkouts_file)"
   ]
  },
  {
   "cell_type": "code",
   "execution_count": 4,
   "metadata": {},
   "outputs": [],
   "source": [
    "# Überführung in ein Python-Objekt\n",
    "checkouts = pd.read_csv(checkouts_file)"
   ]
  },
  {
   "cell_type": "markdown",
   "metadata": {},
   "source": [
    "# Erster Blick auf die Daten"
   ]
  },
  {
   "cell_type": "code",
   "execution_count": 5,
   "metadata": {},
   "outputs": [
    {
     "data": {
      "text/plain": [
       "Index(['usageclass', 'checkouttype', 'materialtype', 'checkoutyear',\n",
       "       'checkoutmonth', 'checkouts', 'title', 'creator', 'subjects',\n",
       "       'publisher', 'publicationyear'],\n",
       "      dtype='object')"
      ]
     },
     "execution_count": 5,
     "metadata": {},
     "output_type": "execute_result"
    }
   ],
   "source": [
    "# Welche Spalten sind enthalten?\n",
    "checkouts.columns"
   ]
  },
  {
   "cell_type": "code",
   "execution_count": 14,
   "metadata": {},
   "outputs": [
    {
     "data": {
      "text/plain": [
       "pandas.core.frame.DataFrame"
      ]
     },
     "execution_count": 14,
     "metadata": {},
     "output_type": "execute_result"
    }
   ],
   "source": [
    "type(checkouts)"
   ]
  },
  {
   "cell_type": "code",
   "execution_count": 21,
   "metadata": {},
   "outputs": [
    {
     "name": "stdout",
     "output_type": "stream",
     "text": [
      "RangeIndex(start=0, stop=1721376, step=1)\n"
     ]
    }
   ],
   "source": [
    "# Anzahl der Einträge für das Ausleihjahr - erster Versuch - so erhält man leider keinen INT zurück:\n",
    "print(checkouts.index)"
   ]
  },
  {
   "cell_type": "code",
   "execution_count": 24,
   "metadata": {},
   "outputs": [
    {
     "data": {
      "text/plain": [
       "1721376"
      ]
     },
     "execution_count": 24,
     "metadata": {},
     "output_type": "execute_result"
    }
   ],
   "source": [
    "# Anzahl der Einträge für das Ausleihjahr - size liefert row x columns als float\n",
    "int(checkouts.size / 11)"
   ]
  },
  {
   "cell_type": "code",
   "execution_count": 6,
   "metadata": {},
   "outputs": [
    {
     "data": {
      "text/html": [
       "<div>\n",
       "<style scoped>\n",
       "    .dataframe tbody tr th:only-of-type {\n",
       "        vertical-align: middle;\n",
       "    }\n",
       "\n",
       "    .dataframe tbody tr th {\n",
       "        vertical-align: top;\n",
       "    }\n",
       "\n",
       "    .dataframe thead th {\n",
       "        text-align: right;\n",
       "    }\n",
       "</style>\n",
       "<table border=\"1\" class=\"dataframe\">\n",
       "  <thead>\n",
       "    <tr style=\"text-align: right;\">\n",
       "      <th></th>\n",
       "      <th>usageclass</th>\n",
       "      <th>checkouttype</th>\n",
       "      <th>materialtype</th>\n",
       "      <th>checkoutyear</th>\n",
       "      <th>checkoutmonth</th>\n",
       "      <th>checkouts</th>\n",
       "      <th>title</th>\n",
       "      <th>creator</th>\n",
       "      <th>subjects</th>\n",
       "      <th>publisher</th>\n",
       "      <th>publicationyear</th>\n",
       "    </tr>\n",
       "  </thead>\n",
       "  <tbody>\n",
       "    <tr>\n",
       "      <th>0</th>\n",
       "      <td>Physical</td>\n",
       "      <td>Horizon</td>\n",
       "      <td>BOOK</td>\n",
       "      <td>2020</td>\n",
       "      <td>8</td>\n",
       "      <td>1</td>\n",
       "      <td>Harvest / Sam Inglis.</td>\n",
       "      <td>Inglis, Sam</td>\n",
       "      <td>Young Neil 1945 Harvest</td>\n",
       "      <td>Continuum,</td>\n",
       "      <td>2003.</td>\n",
       "    </tr>\n",
       "    <tr>\n",
       "      <th>1</th>\n",
       "      <td>Digital</td>\n",
       "      <td>OverDrive</td>\n",
       "      <td>EBOOK</td>\n",
       "      <td>2020</td>\n",
       "      <td>8</td>\n",
       "      <td>1</td>\n",
       "      <td>The Race Beat</td>\n",
       "      <td>Gene Roberts</td>\n",
       "      <td>History, Nonfiction, Politics, Sociology</td>\n",
       "      <td>Random House, Inc.</td>\n",
       "      <td>2008</td>\n",
       "    </tr>\n",
       "    <tr>\n",
       "      <th>2</th>\n",
       "      <td>Digital</td>\n",
       "      <td>OverDrive</td>\n",
       "      <td>EBOOK</td>\n",
       "      <td>2020</td>\n",
       "      <td>8</td>\n",
       "      <td>5</td>\n",
       "      <td>I Can Cook Vegan</td>\n",
       "      <td>Isa Chandra Moskowitz</td>\n",
       "      <td>Cooking &amp; Food, Nonfiction</td>\n",
       "      <td>ABRAMS</td>\n",
       "      <td>2019</td>\n",
       "    </tr>\n",
       "    <tr>\n",
       "      <th>3</th>\n",
       "      <td>Digital</td>\n",
       "      <td>OverDrive</td>\n",
       "      <td>EBOOK</td>\n",
       "      <td>2020</td>\n",
       "      <td>8</td>\n",
       "      <td>1</td>\n",
       "      <td>Follow the Stars Home</td>\n",
       "      <td>Luanne Rice</td>\n",
       "      <td>Fiction, Romance</td>\n",
       "      <td>Random House, Inc.</td>\n",
       "      <td>2012</td>\n",
       "    </tr>\n",
       "    <tr>\n",
       "      <th>4</th>\n",
       "      <td>Digital</td>\n",
       "      <td>OverDrive</td>\n",
       "      <td>EBOOK</td>\n",
       "      <td>2020</td>\n",
       "      <td>8</td>\n",
       "      <td>1</td>\n",
       "      <td>Blood of Innocence</td>\n",
       "      <td>Tami Dane</td>\n",
       "      <td>Fantasy, Fiction, Romance</td>\n",
       "      <td>Lightning Source Inc</td>\n",
       "      <td>2012</td>\n",
       "    </tr>\n",
       "    <tr>\n",
       "      <th>...</th>\n",
       "      <td>...</td>\n",
       "      <td>...</td>\n",
       "      <td>...</td>\n",
       "      <td>...</td>\n",
       "      <td>...</td>\n",
       "      <td>...</td>\n",
       "      <td>...</td>\n",
       "      <td>...</td>\n",
       "      <td>...</td>\n",
       "      <td>...</td>\n",
       "      <td>...</td>\n",
       "    </tr>\n",
       "    <tr>\n",
       "      <th>1721371</th>\n",
       "      <td>Digital</td>\n",
       "      <td>OverDrive</td>\n",
       "      <td>EBOOK</td>\n",
       "      <td>2020</td>\n",
       "      <td>12</td>\n",
       "      <td>4</td>\n",
       "      <td>Blueberries for Sal</td>\n",
       "      <td>Robert McCloskey</td>\n",
       "      <td>Juvenile Fiction, Juvenile Literature, Picture...</td>\n",
       "      <td>Penguin Group (USA), Inc.</td>\n",
       "      <td>2014</td>\n",
       "    </tr>\n",
       "    <tr>\n",
       "      <th>1721372</th>\n",
       "      <td>Physical</td>\n",
       "      <td>Horizon</td>\n",
       "      <td>BOOK</td>\n",
       "      <td>2020</td>\n",
       "      <td>12</td>\n",
       "      <td>1</td>\n",
       "      <td>Squad / Mariah MacCarthy.</td>\n",
       "      <td>MacCarthy, Mariah</td>\n",
       "      <td>Cheerleading Juvenile fiction, Best friends Ju...</td>\n",
       "      <td>Farrar Straus Giroux,</td>\n",
       "      <td>2019.</td>\n",
       "    </tr>\n",
       "    <tr>\n",
       "      <th>1721373</th>\n",
       "      <td>Physical</td>\n",
       "      <td>Horizon</td>\n",
       "      <td>BOOK</td>\n",
       "      <td>2020</td>\n",
       "      <td>12</td>\n",
       "      <td>2</td>\n",
       "      <td>Out of this world : poems and facts about spac...</td>\n",
       "      <td>Sklansky, Amy E.</td>\n",
       "      <td>Outer space Juvenile poetry, Outer space Juven...</td>\n",
       "      <td>Alfred A. Knopf,</td>\n",
       "      <td>[2012]</td>\n",
       "    </tr>\n",
       "    <tr>\n",
       "      <th>1721374</th>\n",
       "      <td>Physical</td>\n",
       "      <td>Horizon</td>\n",
       "      <td>BOOK</td>\n",
       "      <td>2020</td>\n",
       "      <td>12</td>\n",
       "      <td>5</td>\n",
       "      <td>Ring shout : or, Hunting Ku Kluxes in the end ...</td>\n",
       "      <td>Clark, P. Djèlí</td>\n",
       "      <td>Ku Klux Klan 1915 Fiction, African Americans G...</td>\n",
       "      <td>Tordotcom,</td>\n",
       "      <td>2020.</td>\n",
       "    </tr>\n",
       "    <tr>\n",
       "      <th>1721375</th>\n",
       "      <td>Physical</td>\n",
       "      <td>Horizon</td>\n",
       "      <td>VIDEODISC</td>\n",
       "      <td>2020</td>\n",
       "      <td>12</td>\n",
       "      <td>1</td>\n",
       "      <td>They call us monsters / a New Artists Alliance...</td>\n",
       "      <td>NaN</td>\n",
       "      <td>Sylmar Juvenile Hall Sylmar Calif, Juvenile de...</td>\n",
       "      <td>The Orchard,</td>\n",
       "      <td>c2016.</td>\n",
       "    </tr>\n",
       "  </tbody>\n",
       "</table>\n",
       "<p>1721376 rows × 11 columns</p>\n",
       "</div>"
      ],
      "text/plain": [
       "        usageclass checkouttype materialtype  checkoutyear  checkoutmonth  \\\n",
       "0         Physical      Horizon         BOOK          2020              8   \n",
       "1          Digital    OverDrive        EBOOK          2020              8   \n",
       "2          Digital    OverDrive        EBOOK          2020              8   \n",
       "3          Digital    OverDrive        EBOOK          2020              8   \n",
       "4          Digital    OverDrive        EBOOK          2020              8   \n",
       "...            ...          ...          ...           ...            ...   \n",
       "1721371    Digital    OverDrive        EBOOK          2020             12   \n",
       "1721372   Physical      Horizon         BOOK          2020             12   \n",
       "1721373   Physical      Horizon         BOOK          2020             12   \n",
       "1721374   Physical      Horizon         BOOK          2020             12   \n",
       "1721375   Physical      Horizon    VIDEODISC          2020             12   \n",
       "\n",
       "         checkouts                                              title  \\\n",
       "0                1                              Harvest / Sam Inglis.   \n",
       "1                1                                      The Race Beat   \n",
       "2                5                                   I Can Cook Vegan   \n",
       "3                1                              Follow the Stars Home   \n",
       "4                1                                 Blood of Innocence   \n",
       "...            ...                                                ...   \n",
       "1721371          4                                Blueberries for Sal   \n",
       "1721372          1                          Squad / Mariah MacCarthy.   \n",
       "1721373          2  Out of this world : poems and facts about spac...   \n",
       "1721374          5  Ring shout : or, Hunting Ku Kluxes in the end ...   \n",
       "1721375          1  They call us monsters / a New Artists Alliance...   \n",
       "\n",
       "                       creator  \\\n",
       "0                  Inglis, Sam   \n",
       "1                 Gene Roberts   \n",
       "2        Isa Chandra Moskowitz   \n",
       "3                  Luanne Rice   \n",
       "4                    Tami Dane   \n",
       "...                        ...   \n",
       "1721371       Robert McCloskey   \n",
       "1721372      MacCarthy, Mariah   \n",
       "1721373       Sklansky, Amy E.   \n",
       "1721374        Clark, P. Djèlí   \n",
       "1721375                    NaN   \n",
       "\n",
       "                                                  subjects  \\\n",
       "0                                  Young Neil 1945 Harvest   \n",
       "1                 History, Nonfiction, Politics, Sociology   \n",
       "2                               Cooking & Food, Nonfiction   \n",
       "3                                         Fiction, Romance   \n",
       "4                                Fantasy, Fiction, Romance   \n",
       "...                                                    ...   \n",
       "1721371  Juvenile Fiction, Juvenile Literature, Picture...   \n",
       "1721372  Cheerleading Juvenile fiction, Best friends Ju...   \n",
       "1721373  Outer space Juvenile poetry, Outer space Juven...   \n",
       "1721374  Ku Klux Klan 1915 Fiction, African Americans G...   \n",
       "1721375  Sylmar Juvenile Hall Sylmar Calif, Juvenile de...   \n",
       "\n",
       "                         publisher publicationyear  \n",
       "0                       Continuum,           2003.  \n",
       "1               Random House, Inc.            2008  \n",
       "2                           ABRAMS            2019  \n",
       "3               Random House, Inc.            2012  \n",
       "4             Lightning Source Inc            2012  \n",
       "...                            ...             ...  \n",
       "1721371  Penguin Group (USA), Inc.            2014  \n",
       "1721372      Farrar Straus Giroux,           2019.  \n",
       "1721373           Alfred A. Knopf,          [2012]  \n",
       "1721374                 Tordotcom,           2020.  \n",
       "1721375               The Orchard,          c2016.  \n",
       "\n",
       "[1721376 rows x 11 columns]"
      ]
     },
     "execution_count": 6,
     "metadata": {},
     "output_type": "execute_result"
    }
   ],
   "source": [
    "# Daten ansehen\n",
    "checkouts"
   ]
  },
  {
   "cell_type": "markdown",
   "metadata": {},
   "source": [
    "# Analyse der Daten"
   ]
  },
  {
   "cell_type": "code",
   "execution_count": 7,
   "metadata": {},
   "outputs": [],
   "source": [
    "%matplotlib inline"
   ]
  },
  {
   "cell_type": "markdown",
   "metadata": {},
   "source": [
    "## 1) Wie verteilen sich die Ausleihen auf die unterschiedlichen Ausleihtypen?"
   ]
  },
  {
   "cell_type": "code",
   "execution_count": 42,
   "metadata": {},
   "outputs": [
    {
     "data": {
      "text/plain": [
       "<AxesSubplot:>"
      ]
     },
     "execution_count": 42,
     "metadata": {},
     "output_type": "execute_result"
    },
    {
     "data": {
      "image/png": "[encoded data removed]",
      "text/plain": [
       "<Figure size 432x288 with 1 Axes>"
      ]
     },
     "metadata": {
      "needs_background": "light"
     },
     "output_type": "display_data"
    }
   ],
   "source": [
    "# Verteilung nach Checkouttypen\n",
    "# Histogramm plotten\n",
    "checkouts[\"checkouttype\"].hist(color=\"red\")"
   ]
  },
  {
   "cell_type": "markdown",
   "metadata": {},
   "source": [
    "Es kommen nur zwei Ausleihtypen vor: \"Horizon\" und \"Overdrive\"."
   ]
  },
  {
   "cell_type": "markdown",
   "metadata": {},
   "source": [
    "## 2) Wie ist das Verhältnis von digitalen und physischen Ausleihen?"
   ]
  },
  {
   "cell_type": "code",
   "execution_count": 9,
   "metadata": {},
   "outputs": [
    {
     "data": {
      "text/plain": [
       "<AxesSubplot:>"
      ]
     },
     "execution_count": 9,
     "metadata": {},
     "output_type": "execute_result"
    },
    {
     "data": {
      "image/png": "[encoded data removed]",
      "text/plain": [
       "<Figure size 432x288 with 1 Axes>"
      ]
     },
     "metadata": {
      "needs_background": "light"
     },
     "output_type": "display_data"
    }
   ],
   "source": [
    "# Histogramm plotten\n",
    "checkouts[\"usageclass\"].hist(color=\"blue\")"
   ]
  },
  {
   "cell_type": "code",
   "execution_count": 10,
   "metadata": {},
   "outputs": [
    {
     "data": {
      "text/plain": [
       "1721376"
      ]
     },
     "execution_count": 10,
     "metadata": {},
     "output_type": "execute_result"
    }
   ],
   "source": [
    "checkouts.usageclass.count()"
   ]
  },
  {
   "cell_type": "code",
   "execution_count": 11,
   "metadata": {},
   "outputs": [
    {
     "data": {
      "text/plain": [
       "pandas.core.series.Series"
      ]
     },
     "execution_count": 11,
     "metadata": {},
     "output_type": "execute_result"
    }
   ],
   "source": [
    "type(checkouts[\"usageclass\"])"
   ]
  },
  {
   "cell_type": "code",
   "execution_count": 26,
   "metadata": {},
   "outputs": [
    {
     "name": "stdout",
     "output_type": "stream",
     "text": [
      "Digital\n"
     ]
    }
   ],
   "source": [
    "# Ausprobieren: Ansprechen über Index funktionert?\n",
    "print(checkouts[\"usageclass\"][3])"
   ]
  },
  {
   "cell_type": "code",
   "execution_count": 69,
   "metadata": {},
   "outputs": [
    {
     "data": {
      "text/plain": [
       "1091407"
      ]
     },
     "execution_count": 69,
     "metadata": {},
     "output_type": "execute_result"
    }
   ],
   "source": [
    "# count funktioniert nur für Listen:\n",
    "checkouts[\"usageclass\"].tolist().count(\"Digital\")"
   ]
  },
  {
   "cell_type": "code",
   "execution_count": 58,
   "metadata": {},
   "outputs": [
    {
     "data": {
      "text/plain": [
       "1091407"
      ]
     },
     "execution_count": 58,
     "metadata": {},
     "output_type": "execute_result"
    }
   ],
   "source": [
    "# Anzahl als Variable\n",
    "Anzahl_digital = checkouts[\"usageclass\"].tolist().count(\"Digital\")\n",
    "Anzahl_digital"
   ]
  },
  {
   "cell_type": "code",
   "execution_count": 70,
   "metadata": {},
   "outputs": [
    {
     "data": {
      "text/plain": [
       "Digital     1091407\n",
       "Physical     629969\n",
       "Name: usageclass, dtype: int64"
      ]
     },
     "execution_count": 70,
     "metadata": {},
     "output_type": "execute_result"
    }
   ],
   "source": [
    "#Das gefällt mir noch nicht - ich möchte direkt beides haben für \"Digital\" und \"physical\"\n",
    "mediatype = pd.Index(checkouts.usageclass)\n",
    "mediatype_table = itemtype.value_counts()\n",
    "mediatype_table"
   ]
  },
  {
   "cell_type": "code",
   "execution_count": 72,
   "metadata": {},
   "outputs": [
    {
     "data": {
      "text/plain": [
       "<AxesSubplot:ylabel='usageclass'>"
      ]
     },
     "execution_count": 72,
     "metadata": {},
     "output_type": "execute_result"
    },
    {
     "data": {
      "image/png": "[encoded data removed]",
      "text/plain": [
       "<Figure size 432x288 with 1 Axes>"
      ]
     },
     "metadata": {},
     "output_type": "display_data"
    }
   ],
   "source": [
    "mediatype_table.plot.pie()"
   ]
  },
  {
   "cell_type": "code",
   "execution_count": null,
   "metadata": {},
   "outputs": [],
   "source": []
  }
 ],
 "metadata": {
  "kernelspec": {
   "display_name": "Python 3",
   "language": "python",
   "name": "python3"
  },
  "language_info": {
   "codemirror_mode": {
    "name": "ipython",
    "version": 3
   },
   "file_extension": ".py",
   "mimetype": "text/x-python",
   "name": "python",
   "nbconvert_exporter": "python",
   "pygments_lexer": "ipython3",
   "version": "3.8.5"
  }
 },
 "nbformat": 4,
 "nbformat_minor": 4
}
