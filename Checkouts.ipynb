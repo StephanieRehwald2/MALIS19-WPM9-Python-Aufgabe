{
 "cells": [
  {
   "cell_type": "markdown",
   "metadata": {},
   "source": [
    "# Import der benötigten Packages"
   ]
  },
  {
   "cell_type": "code",
   "execution_count": 1,
   "metadata": {},
   "outputs": [],
   "source": [
    "import urllib.request\n",
    "import pandas as pd\n",
    "\n",
    "import matplotlib.pyplot as plt"
   ]
  },
  {
   "cell_type": "markdown",
   "metadata": {},
   "source": [
    "# Import der Daten\n",
    "Seattle Public Library   \n",
    "\"checkouts by title for physical and electronic items\"  \n",
    "monatliche Ausleihen seit April 2005  \n",
    "Diese Datei enthält über 37 Mio Zeilen und 11 Spalten.  \n",
    "Diese Größe ist beim Download unhandlich, daher lade ich einzelne Ausleihjahre mit \"where=checkoutyear= \".  \n",
    "Offenbar werden per default nur 1000 Einträge geladen, daher setze ich das Limit manuell hoch mit \"limit=...\"."
   ]
  },
  {
   "cell_type": "code",
   "execution_count": 2,
   "metadata": {},
   "outputs": [],
   "source": [
    "# Festlegung der URL mit Eingrenzung des Ausleihjahres und der Anzahl von Zeilen\n",
    "checkout_url = \"https://data.seattle.gov/resource/tmmm-ytt6.csv?$where=checkoutyear=2020&$limit=2000000\"\n",
    "checkouts_file = \"checkouts.csv\""
   ]
  },
  {
   "cell_type": "code",
   "execution_count": 3,
   "metadata": {},
   "outputs": [
    {
     "data": {
      "text/plain": [
       "('checkouts.csv', <http.client.HTTPMessage at 0xbe214a8>)"
      ]
     },
     "execution_count": 3,
     "metadata": {},
     "output_type": "execute_result"
    }
   ],
   "source": [
    "# Download der Daten\n",
    "urllib.request.urlretrieve(checkout_url, checkouts_file)"
   ]
  },
  {
   "cell_type": "code",
   "execution_count": 4,
   "metadata": {},
   "outputs": [],
   "source": [
    "# Überführung in ein Python-Objekt\n",
    "checkouts = pd.read_csv(checkouts_file)"
   ]
  },
  {
   "cell_type": "markdown",
   "metadata": {},
   "source": [
    "# Erster Blick auf die Daten"
   ]
  },
  {
   "cell_type": "code",
   "execution_count": 5,
   "metadata": {},
   "outputs": [
    {
     "data": {
      "text/plain": [
       "Index(['usageclass', 'checkouttype', 'materialtype', 'checkoutyear',\n",
       "       'checkoutmonth', 'checkouts', 'title', 'creator', 'subjects',\n",
       "       'publisher', 'publicationyear'],\n",
       "      dtype='object')"
      ]
     },
     "execution_count": 5,
     "metadata": {},
     "output_type": "execute_result"
    }
   ],
   "source": [
    "# Welche Spalten sind enthalten?\n",
    "checkouts.columns"
   ]
  },
  {
   "cell_type": "code",
   "execution_count": 6,
   "metadata": {},
   "outputs": [
    {
     "data": {
      "text/plain": [
       "pandas.core.frame.DataFrame"
      ]
     },
     "execution_count": 6,
     "metadata": {},
     "output_type": "execute_result"
    }
   ],
   "source": [
    "type(checkouts)"
   ]
  },
  {
   "cell_type": "code",
   "execution_count": 7,
   "metadata": {},
   "outputs": [
    {
     "name": "stdout",
     "output_type": "stream",
     "text": [
      "RangeIndex(start=0, stop=1721376, step=1)\n"
     ]
    }
   ],
   "source": [
    "# Anzahl der Einträge für das Ausleihjahr - erster Versuch - so erhält man leider keinen INT zurück:\n",
    "print(checkouts.index)"
   ]
  },
  {
   "cell_type": "code",
   "execution_count": 8,
   "metadata": {},
   "outputs": [
    {
     "data": {
      "text/plain": [
       "1721376"
      ]
     },
     "execution_count": 8,
     "metadata": {},
     "output_type": "execute_result"
    }
   ],
   "source": [
    "# Anzahl der Einträge für das Ausleihjahr - size liefert row x columns als float\n",
    "int(checkouts.size / 11)"
   ]
  },
  {
   "cell_type": "code",
   "execution_count": 9,
   "metadata": {},
   "outputs": [
    {
     "data": {
      "text/html": [
       "<div>\n",
       "<style scoped>\n",
       "    .dataframe tbody tr th:only-of-type {\n",
       "        vertical-align: middle;\n",
       "    }\n",
       "\n",
       "    .dataframe tbody tr th {\n",
       "        vertical-align: top;\n",
       "    }\n",
       "\n",
       "    .dataframe thead th {\n",
       "        text-align: right;\n",
       "    }\n",
       "</style>\n",
       "<table border=\"1\" class=\"dataframe\">\n",
       "  <thead>\n",
       "    <tr style=\"text-align: right;\">\n",
       "      <th></th>\n",
       "      <th>usageclass</th>\n",
       "      <th>checkouttype</th>\n",
       "      <th>materialtype</th>\n",
       "      <th>checkoutyear</th>\n",
       "      <th>checkoutmonth</th>\n",
       "      <th>checkouts</th>\n",
       "      <th>title</th>\n",
       "      <th>creator</th>\n",
       "      <th>subjects</th>\n",
       "      <th>publisher</th>\n",
       "      <th>publicationyear</th>\n",
       "    </tr>\n",
       "  </thead>\n",
       "  <tbody>\n",
       "    <tr>\n",
       "      <th>0</th>\n",
       "      <td>Physical</td>\n",
       "      <td>Horizon</td>\n",
       "      <td>BOOK</td>\n",
       "      <td>2020</td>\n",
       "      <td>8</td>\n",
       "      <td>1</td>\n",
       "      <td>Harvest / Sam Inglis.</td>\n",
       "      <td>Inglis, Sam</td>\n",
       "      <td>Young Neil 1945 Harvest</td>\n",
       "      <td>Continuum,</td>\n",
       "      <td>2003.</td>\n",
       "    </tr>\n",
       "    <tr>\n",
       "      <th>1</th>\n",
       "      <td>Digital</td>\n",
       "      <td>OverDrive</td>\n",
       "      <td>EBOOK</td>\n",
       "      <td>2020</td>\n",
       "      <td>8</td>\n",
       "      <td>1</td>\n",
       "      <td>The Race Beat</td>\n",
       "      <td>Gene Roberts</td>\n",
       "      <td>History, Nonfiction, Politics, Sociology</td>\n",
       "      <td>Random House, Inc.</td>\n",
       "      <td>2008</td>\n",
       "    </tr>\n",
       "    <tr>\n",
       "      <th>2</th>\n",
       "      <td>Digital</td>\n",
       "      <td>OverDrive</td>\n",
       "      <td>EBOOK</td>\n",
       "      <td>2020</td>\n",
       "      <td>8</td>\n",
       "      <td>5</td>\n",
       "      <td>I Can Cook Vegan</td>\n",
       "      <td>Isa Chandra Moskowitz</td>\n",
       "      <td>Cooking &amp; Food, Nonfiction</td>\n",
       "      <td>ABRAMS</td>\n",
       "      <td>2019</td>\n",
       "    </tr>\n",
       "    <tr>\n",
       "      <th>3</th>\n",
       "      <td>Digital</td>\n",
       "      <td>OverDrive</td>\n",
       "      <td>EBOOK</td>\n",
       "      <td>2020</td>\n",
       "      <td>8</td>\n",
       "      <td>1</td>\n",
       "      <td>Follow the Stars Home</td>\n",
       "      <td>Luanne Rice</td>\n",
       "      <td>Fiction, Romance</td>\n",
       "      <td>Random House, Inc.</td>\n",
       "      <td>2012</td>\n",
       "    </tr>\n",
       "    <tr>\n",
       "      <th>4</th>\n",
       "      <td>Digital</td>\n",
       "      <td>OverDrive</td>\n",
       "      <td>EBOOK</td>\n",
       "      <td>2020</td>\n",
       "      <td>8</td>\n",
       "      <td>1</td>\n",
       "      <td>Blood of Innocence</td>\n",
       "      <td>Tami Dane</td>\n",
       "      <td>Fantasy, Fiction, Romance</td>\n",
       "      <td>Lightning Source Inc</td>\n",
       "      <td>2012</td>\n",
       "    </tr>\n",
       "    <tr>\n",
       "      <th>...</th>\n",
       "      <td>...</td>\n",
       "      <td>...</td>\n",
       "      <td>...</td>\n",
       "      <td>...</td>\n",
       "      <td>...</td>\n",
       "      <td>...</td>\n",
       "      <td>...</td>\n",
       "      <td>...</td>\n",
       "      <td>...</td>\n",
       "      <td>...</td>\n",
       "      <td>...</td>\n",
       "    </tr>\n",
       "    <tr>\n",
       "      <th>1721371</th>\n",
       "      <td>Digital</td>\n",
       "      <td>OverDrive</td>\n",
       "      <td>EBOOK</td>\n",
       "      <td>2020</td>\n",
       "      <td>12</td>\n",
       "      <td>4</td>\n",
       "      <td>Blueberries for Sal</td>\n",
       "      <td>Robert McCloskey</td>\n",
       "      <td>Juvenile Fiction, Juvenile Literature, Picture...</td>\n",
       "      <td>Penguin Group (USA), Inc.</td>\n",
       "      <td>2014</td>\n",
       "    </tr>\n",
       "    <tr>\n",
       "      <th>1721372</th>\n",
       "      <td>Physical</td>\n",
       "      <td>Horizon</td>\n",
       "      <td>BOOK</td>\n",
       "      <td>2020</td>\n",
       "      <td>12</td>\n",
       "      <td>1</td>\n",
       "      <td>Squad / Mariah MacCarthy.</td>\n",
       "      <td>MacCarthy, Mariah</td>\n",
       "      <td>Cheerleading Juvenile fiction, Best friends Ju...</td>\n",
       "      <td>Farrar Straus Giroux,</td>\n",
       "      <td>2019.</td>\n",
       "    </tr>\n",
       "    <tr>\n",
       "      <th>1721373</th>\n",
       "      <td>Physical</td>\n",
       "      <td>Horizon</td>\n",
       "      <td>BOOK</td>\n",
       "      <td>2020</td>\n",
       "      <td>12</td>\n",
       "      <td>2</td>\n",
       "      <td>Out of this world : poems and facts about spac...</td>\n",
       "      <td>Sklansky, Amy E.</td>\n",
       "      <td>Outer space Juvenile poetry, Outer space Juven...</td>\n",
       "      <td>Alfred A. Knopf,</td>\n",
       "      <td>[2012]</td>\n",
       "    </tr>\n",
       "    <tr>\n",
       "      <th>1721374</th>\n",
       "      <td>Physical</td>\n",
       "      <td>Horizon</td>\n",
       "      <td>BOOK</td>\n",
       "      <td>2020</td>\n",
       "      <td>12</td>\n",
       "      <td>5</td>\n",
       "      <td>Ring shout : or, Hunting Ku Kluxes in the end ...</td>\n",
       "      <td>Clark, P. Djèlí</td>\n",
       "      <td>Ku Klux Klan 1915 Fiction, African Americans G...</td>\n",
       "      <td>Tordotcom,</td>\n",
       "      <td>2020.</td>\n",
       "    </tr>\n",
       "    <tr>\n",
       "      <th>1721375</th>\n",
       "      <td>Physical</td>\n",
       "      <td>Horizon</td>\n",
       "      <td>VIDEODISC</td>\n",
       "      <td>2020</td>\n",
       "      <td>12</td>\n",
       "      <td>1</td>\n",
       "      <td>They call us monsters / a New Artists Alliance...</td>\n",
       "      <td>NaN</td>\n",
       "      <td>Sylmar Juvenile Hall Sylmar Calif, Juvenile de...</td>\n",
       "      <td>The Orchard,</td>\n",
       "      <td>c2016.</td>\n",
       "    </tr>\n",
       "  </tbody>\n",
       "</table>\n",
       "<p>1721376 rows × 11 columns</p>\n",
       "</div>"
      ],
      "text/plain": [
       "        usageclass checkouttype materialtype  checkoutyear  checkoutmonth  \\\n",
       "0         Physical      Horizon         BOOK          2020              8   \n",
       "1          Digital    OverDrive        EBOOK          2020              8   \n",
       "2          Digital    OverDrive        EBOOK          2020              8   \n",
       "3          Digital    OverDrive        EBOOK          2020              8   \n",
       "4          Digital    OverDrive        EBOOK          2020              8   \n",
       "...            ...          ...          ...           ...            ...   \n",
       "1721371    Digital    OverDrive        EBOOK          2020             12   \n",
       "1721372   Physical      Horizon         BOOK          2020             12   \n",
       "1721373   Physical      Horizon         BOOK          2020             12   \n",
       "1721374   Physical      Horizon         BOOK          2020             12   \n",
       "1721375   Physical      Horizon    VIDEODISC          2020             12   \n",
       "\n",
       "         checkouts                                              title  \\\n",
       "0                1                              Harvest / Sam Inglis.   \n",
       "1                1                                      The Race Beat   \n",
       "2                5                                   I Can Cook Vegan   \n",
       "3                1                              Follow the Stars Home   \n",
       "4                1                                 Blood of Innocence   \n",
       "...            ...                                                ...   \n",
       "1721371          4                                Blueberries for Sal   \n",
       "1721372          1                          Squad / Mariah MacCarthy.   \n",
       "1721373          2  Out of this world : poems and facts about spac...   \n",
       "1721374          5  Ring shout : or, Hunting Ku Kluxes in the end ...   \n",
       "1721375          1  They call us monsters / a New Artists Alliance...   \n",
       "\n",
       "                       creator  \\\n",
       "0                  Inglis, Sam   \n",
       "1                 Gene Roberts   \n",
       "2        Isa Chandra Moskowitz   \n",
       "3                  Luanne Rice   \n",
       "4                    Tami Dane   \n",
       "...                        ...   \n",
       "1721371       Robert McCloskey   \n",
       "1721372      MacCarthy, Mariah   \n",
       "1721373       Sklansky, Amy E.   \n",
       "1721374        Clark, P. Djèlí   \n",
       "1721375                    NaN   \n",
       "\n",
       "                                                  subjects  \\\n",
       "0                                  Young Neil 1945 Harvest   \n",
       "1                 History, Nonfiction, Politics, Sociology   \n",
       "2                               Cooking & Food, Nonfiction   \n",
       "3                                         Fiction, Romance   \n",
       "4                                Fantasy, Fiction, Romance   \n",
       "...                                                    ...   \n",
       "1721371  Juvenile Fiction, Juvenile Literature, Picture...   \n",
       "1721372  Cheerleading Juvenile fiction, Best friends Ju...   \n",
       "1721373  Outer space Juvenile poetry, Outer space Juven...   \n",
       "1721374  Ku Klux Klan 1915 Fiction, African Americans G...   \n",
       "1721375  Sylmar Juvenile Hall Sylmar Calif, Juvenile de...   \n",
       "\n",
       "                         publisher publicationyear  \n",
       "0                       Continuum,           2003.  \n",
       "1               Random House, Inc.            2008  \n",
       "2                           ABRAMS            2019  \n",
       "3               Random House, Inc.            2012  \n",
       "4             Lightning Source Inc            2012  \n",
       "...                            ...             ...  \n",
       "1721371  Penguin Group (USA), Inc.            2014  \n",
       "1721372      Farrar Straus Giroux,           2019.  \n",
       "1721373           Alfred A. Knopf,          [2012]  \n",
       "1721374                 Tordotcom,           2020.  \n",
       "1721375               The Orchard,          c2016.  \n",
       "\n",
       "[1721376 rows x 11 columns]"
      ]
     },
     "execution_count": 9,
     "metadata": {},
     "output_type": "execute_result"
    }
   ],
   "source": [
    "# Daten ansehen\n",
    "checkouts"
   ]
  },
  {
   "cell_type": "markdown",
   "metadata": {},
   "source": [
    "# Analyse der Daten"
   ]
  },
  {
   "cell_type": "code",
   "execution_count": 10,
   "metadata": {},
   "outputs": [],
   "source": [
    "%matplotlib inline"
   ]
  },
  {
   "cell_type": "markdown",
   "metadata": {},
   "source": [
    "## 1) Wie verteilen sich die Ausleihen auf die unterschiedlichen Ausleihtypen?"
   ]
  },
  {
   "cell_type": "code",
   "execution_count": 11,
   "metadata": {},
   "outputs": [
    {
     "data": {
      "image/png": "[encoded data removed]",
      "text/plain": [
       "<Figure size 432x288 with 1 Axes>"
      ]
     },
     "metadata": {
      "needs_background": "light"
     },
     "output_type": "display_data"
    }
   ],
   "source": [
    "# Verteilung nach Checkouttypen\n",
    "# Histogramm plotten\n",
    "checkouts[\"checkouttype\"].hist(color=\"red\")\n",
    "plt.title(\"Checkouttypen\")\n",
    "plt.xlabel(\"Checkouttyp\")\n",
    "plt.ylabel(\"Häufigkeit\")\n",
    "plt.show()"
   ]
  },
  {
   "cell_type": "markdown",
   "metadata": {},
   "source": [
    "Es gibt nur zwei Checkouttypen: Horizon und Overdrive."
   ]
  },
  {
   "cell_type": "markdown",
   "metadata": {},
   "source": [
    "## 2) Wie ist das Verhältnis von digitalen und physischen Ausleihen?"
   ]
  },
  {
   "cell_type": "code",
   "execution_count": 12,
   "metadata": {},
   "outputs": [
    {
     "data": {
      "image/png": "[encoded data removed]",
      "text/plain": [
       "<Figure size 432x288 with 1 Axes>"
      ]
     },
     "metadata": {
      "needs_background": "light"
     },
     "output_type": "display_data"
    }
   ],
   "source": [
    "# Histogramm plotten\n",
    "checkouts[\"usageclass\"].hist(color=\"blue\")\n",
    "plt.title(\"Art der Ausleihe\")\n",
    "plt.xlabel(\"Medium\")\n",
    "plt.ylabel(\"Häufigkeit\")\n",
    "plt.show()"
   ]
  },
  {
   "cell_type": "markdown",
   "metadata": {},
   "source": [
    "Wie lauten die genauen Zahlen der digitalen Ausleihen?"
   ]
  },
  {
   "cell_type": "code",
   "execution_count": 13,
   "metadata": {},
   "outputs": [
    {
     "data": {
      "text/plain": [
       "1721376"
      ]
     },
     "execution_count": 13,
     "metadata": {},
     "output_type": "execute_result"
    }
   ],
   "source": [
    "checkouts.usageclass.count()\n",
    "# dies gibt offenbar die Gesamtzahl"
   ]
  },
  {
   "cell_type": "code",
   "execution_count": 14,
   "metadata": {},
   "outputs": [
    {
     "data": {
      "text/plain": [
       "pandas.core.series.Series"
      ]
     },
     "execution_count": 14,
     "metadata": {},
     "output_type": "execute_result"
    }
   ],
   "source": [
    "type(checkouts[\"usageclass\"])"
   ]
  },
  {
   "cell_type": "code",
   "execution_count": 15,
   "metadata": {},
   "outputs": [
    {
     "name": "stdout",
     "output_type": "stream",
     "text": [
      "Digital\n"
     ]
    }
   ],
   "source": [
    "# Ausprobieren: Ansprechen über Index funktionert?\n",
    "print(checkouts[\"usageclass\"][3])"
   ]
  },
  {
   "cell_type": "code",
   "execution_count": 16,
   "metadata": {},
   "outputs": [
    {
     "data": {
      "text/plain": [
       "1091407"
      ]
     },
     "execution_count": 16,
     "metadata": {},
     "output_type": "execute_result"
    }
   ],
   "source": [
    "# count funktioniert nur für Listen:\n",
    "checkouts[\"usageclass\"].tolist().count(\"Digital\")"
   ]
  },
  {
   "cell_type": "code",
   "execution_count": 17,
   "metadata": {},
   "outputs": [
    {
     "data": {
      "text/plain": [
       "629969"
      ]
     },
     "execution_count": 17,
     "metadata": {},
     "output_type": "execute_result"
    }
   ],
   "source": [
    "# count funktioniert nur für Listen:\n",
    "checkouts[\"usageclass\"].tolist().count(\"Physical\")"
   ]
  },
  {
   "cell_type": "code",
   "execution_count": 18,
   "metadata": {
    "scrolled": true
   },
   "outputs": [
    {
     "data": {
      "text/plain": [
       "1091407"
      ]
     },
     "execution_count": 18,
     "metadata": {},
     "output_type": "execute_result"
    }
   ],
   "source": [
    "# Anzahl als Variable\n",
    "Anzahl_digital = checkouts[\"usageclass\"].tolist().count(\"Digital\")\n",
    "Anzahl_digital"
   ]
  },
  {
   "cell_type": "code",
   "execution_count": 19,
   "metadata": {},
   "outputs": [
    {
     "data": {
      "text/plain": [
       "629969"
      ]
     },
     "execution_count": 19,
     "metadata": {},
     "output_type": "execute_result"
    }
   ],
   "source": [
    "# Anzahl als Variable\n",
    "Anzahl_physisch = checkouts[\"usageclass\"].tolist().count(\"Physical\")\n",
    "Anzahl_physisch"
   ]
  },
  {
   "cell_type": "code",
   "execution_count": 20,
   "metadata": {},
   "outputs": [
    {
     "name": "stdout",
     "output_type": "stream",
     "text": [
      "Die Ausleihen verteilen sich folgendermaßen auf digitale und physische Ausleihen:\n",
      "Digital     1091407\n",
      "Physical     629969\n",
      "Name: usageclass, dtype: int64\n"
     ]
    }
   ],
   "source": [
    "#Das gefällt mir noch nicht - ich möchte direkt beides haben für \"Digital\" und \"physical\"\n",
    "mediatype = pd.Index(checkouts.usageclass)\n",
    "mediatype_table = mediatype.value_counts()\n",
    "print(\"Die Ausleihen verteilen sich folgendermaßen auf digitale und physische Ausleihen:\")\n",
    "print(mediatype_table)"
   ]
  },
  {
   "cell_type": "code",
   "execution_count": 21,
   "metadata": {},
   "outputs": [
    {
     "data": {
      "image/png": "[encoded data removed]",
      "text/plain": [
       "<Figure size 432x288 with 1 Axes>"
      ]
     },
     "metadata": {},
     "output_type": "display_data"
    }
   ],
   "source": [
    "# Darstellung als Kreisdiagramm\n",
    "mediatype_table.plot.pie()\n",
    "plt.title(\"Art der Ausleihe\")\n",
    "plt.ylabel(\" \")\n",
    "plt.show()"
   ]
  },
  {
   "cell_type": "code",
   "execution_count": 22,
   "metadata": {},
   "outputs": [
    {
     "name": "stdout",
     "output_type": "stream",
     "text": [
      "Es werden 63% der Ausleihen digital getätigt.\n"
     ]
    }
   ],
   "source": [
    "# Verhältnis bestimmen:\n",
    "ratio = str(int((Anzahl_digital/(Anzahl_digital+Anzahl_physisch))*100))\n",
    "print(\"Es werden \" + ratio + \"% der Ausleihen digital getätigt.\")"
   ]
  },
  {
   "cell_type": "markdown",
   "metadata": {},
   "source": [
    "## 3) Entwicklung der digitalen Ausleihen über die Jahre\n",
    "Wie hat sich der Anteil der Ausleihe in digitaler Form über die Jahre 2015-2020 entwickelt?    \n",
    "Umsetzung: Die Werte für die einzelnen Ausleihjahre sollen über eine for-Schleife erzeugt werden."
   ]
  },
  {
   "cell_type": "markdown",
   "metadata": {},
   "source": [
    "**Schritte zur Vorbereitung:**"
   ]
  },
  {
   "cell_type": "code",
   "execution_count": 23,
   "metadata": {},
   "outputs": [
    {
     "name": "stdout",
     "output_type": "stream",
     "text": [
      "https://data.seattle.gov/resource/tmmm-ytt6.csv?$where=checkoutyear=2015&$limit=1000\n"
     ]
    }
   ],
   "source": [
    "# Darstellung der URL mit Jahreszahl als Variablen, exemplarische Rechnung: Limit hier 1000  \n",
    "jahr = 2015\n",
    "checkout_url = \"https://data.seattle.gov/resource/tmmm-ytt6.csv?$where=checkoutyear=\" +str(jahr) + \"&$limit=1000\"\n",
    "print(checkout_url)"
   ]
  },
  {
   "cell_type": "code",
   "execution_count": 24,
   "metadata": {},
   "outputs": [
    {
     "name": "stdout",
     "output_type": "stream",
     "text": [
      "2015\n",
      "2016\n",
      "2017\n",
      "2018\n",
      "2019\n",
      "2020\n"
     ]
    }
   ],
   "source": [
    "# Abfrage mehrerer Ausleihjahre über for-Schleife: \n",
    "# (eigentlich sollte xrange für Interation genutzt werden, aber dieser Befehl wird hier nicht erkannt, Fehler nicht gefunden)\n",
    "for i in range(0, 6):\n",
    "    jahr = 2015 + i\n",
    "    print(jahr)"
   ]
  },
  {
   "cell_type": "code",
   "execution_count": 25,
   "metadata": {},
   "outputs": [
    {
     "name": "stdout",
     "output_type": "stream",
     "text": [
      "https://data.seattle.gov/resource/tmmm-ytt6.csv?$where=checkoutyear=2015&$limit=1000\n",
      "https://data.seattle.gov/resource/tmmm-ytt6.csv?$where=checkoutyear=2016&$limit=1000\n",
      "https://data.seattle.gov/resource/tmmm-ytt6.csv?$where=checkoutyear=2017&$limit=1000\n",
      "https://data.seattle.gov/resource/tmmm-ytt6.csv?$where=checkoutyear=2018&$limit=1000\n",
      "https://data.seattle.gov/resource/tmmm-ytt6.csv?$where=checkoutyear=2019&$limit=1000\n",
      "https://data.seattle.gov/resource/tmmm-ytt6.csv?$where=checkoutyear=2020&$limit=1000\n"
     ]
    }
   ],
   "source": [
    "for i in range(0, 6):\n",
    "    jahr = 2015 + i\n",
    "    checkout_url = \"https://data.seattle.gov/resource/tmmm-ytt6.csv?$where=checkoutyear=\" +str(jahr) + \"&$limit=1000\"\n",
    "    print(checkout_url)"
   ]
  },
  {
   "cell_type": "markdown",
   "metadata": {},
   "source": [
    "**Zusammensetzen zur endgültigen Schleife:**"
   ]
  },
  {
   "cell_type": "code",
   "execution_count": 26,
   "metadata": {},
   "outputs": [
    {
     "name": "stdout",
     "output_type": "stream",
     "text": [
      "2015\n",
      "Digital:365\n",
      "Physical:635\n",
      "Anteil Digital:36%\n",
      "2016\n",
      "Digital:371\n",
      "Physical:629\n",
      "Anteil Digital:37%\n",
      "2017\n",
      "Digital:418\n",
      "Physical:582\n",
      "Anteil Digital:41%\n",
      "2018\n",
      "Digital:447\n",
      "Physical:553\n",
      "Anteil Digital:44%\n",
      "2019\n",
      "Digital:372\n",
      "Physical:628\n",
      "Anteil Digital:37%\n",
      "2020\n",
      "Digital:546\n",
      "Physical:454\n",
      "Anteil Digital:54%\n"
     ]
    }
   ],
   "source": [
    "for i in range(0, 6):\n",
    "    jahr = 2015 + i\n",
    "    checkout_url = \"https://data.seattle.gov/resource/tmmm-ytt6.csv?$where=checkoutyear=\" +str(jahr) + \"&$limit=1000\"\n",
    "    checkouts_file = \"checkouts.csv\"\n",
    "    # Download der Daten\n",
    "    urllib.request.urlretrieve(checkout_url, checkouts_file)\n",
    "    # Überführung in ein Python-Objekt\n",
    "    checkouts = pd.read_csv(checkouts_file)\n",
    "    # Anzahl\n",
    "    Anzahl_digital = checkouts[\"usageclass\"].tolist().count(\"Digital\")\n",
    "    Anzahl_physisch = checkouts[\"usageclass\"].tolist().count(\"Physical\")\n",
    "    # Verhältnis:\n",
    "    ratio = int((Anzahl_digital/(Anzahl_digital+Anzahl_physisch))*100)\n",
    "    print(jahr)\n",
    "    print(\"Digital:\" + str(Anzahl_digital))\n",
    "    print(\"Physical:\" + str(Anzahl_physisch))\n",
    "    print(\"Anteil Digital:\" + str(ratio) + \"%\")"
   ]
  },
  {
   "cell_type": "markdown",
   "metadata": {},
   "source": [
    "**Ausgabe als Tabelle und Diagramm**"
   ]
  },
  {
   "cell_type": "markdown",
   "metadata": {},
   "source": [
    "Die Plot-Funktionen in Pandas brauchen als Input Series oder DataFrames. Diese müssen als erstes gebaut werden:  \n",
    "Erstellung von drei Listen:  \n",
    "1)alle Ausleihen Digital  \n",
    "2)alle Ausleihen Physical  \n",
    "3)Ausleihjahre  \n",
    "Daraus wird dann ein DataFrame mit den Columns \"Digital\" und \"Physical\" und dem Index \"Jahre\" erstellt."
   ]
  },
  {
   "cell_type": "code",
   "execution_count": 27,
   "metadata": {},
   "outputs": [],
   "source": [
    "# Ausprobieren:"
   ]
  },
  {
   "cell_type": "code",
   "execution_count": 28,
   "metadata": {},
   "outputs": [],
   "source": [
    "# außerhalb der Schleife:\n",
    "#Ausleihjahre = []\n",
    "#Digi_Ausleihen = []\n",
    "#Phys_Ausleihen = []\n",
    "# innerhalb der Schleife:\n",
    "#Ausleihjahre.append(jahr)\n",
    "#Digi_Ausleihen.append(Anzahl_digital)\n",
    "#Phys_Ausleihen.append(Anzahl_physisch)"
   ]
  },
  {
   "cell_type": "code",
   "execution_count": 29,
   "metadata": {},
   "outputs": [
    {
     "name": "stdout",
     "output_type": "stream",
     "text": [
      "Ausleihjahre\n",
      "[2015, 2016, 2017, 2018, 2019, 2020]\n",
      "Digitale Ausleihen\n",
      "[365, 371, 418, 447, 372, 546]\n",
      "Physische Ausleihen\n",
      "[635, 629, 582, 553, 628, 454]\n"
     ]
    }
   ],
   "source": [
    "Ausleihjahre = []\n",
    "Digi_Ausleihen = []\n",
    "Phys_Ausleihen = []\n",
    "for i in range(0, 6):\n",
    "    jahr = 2015 + i\n",
    "    checkout_url = \"https://data.seattle.gov/resource/tmmm-ytt6.csv?$where=checkoutyear=\" +str(jahr) + \"&$limit=1000\"\n",
    "    checkouts_file = \"checkouts.csv\"\n",
    "    # Download der Daten\n",
    "    urllib.request.urlretrieve(checkout_url, checkouts_file)\n",
    "    # Überführung in ein Python-Objekt\n",
    "    checkouts = pd.read_csv(checkouts_file)\n",
    "    # Anzahl\n",
    "    Anzahl_digital = checkouts[\"usageclass\"].tolist().count(\"Digital\")\n",
    "    Anzahl_physisch = checkouts[\"usageclass\"].tolist().count(\"Physical\")\n",
    "    # Verhältnis:\n",
    "    ratio = int((Anzahl_digital/(Anzahl_digital+Anzahl_physisch))*100)\n",
    "    # Schreiben in Listen\n",
    "    Ausleihjahre.append(jahr)\n",
    "    Digi_Ausleihen.append(Anzahl_digital)\n",
    "    Phys_Ausleihen.append(Anzahl_physisch)\n",
    "    \n",
    "print(\"Ausleihjahre\")\n",
    "print(Ausleihjahre)\n",
    "print(\"Digitale Ausleihen\")\n",
    "print(Digi_Ausleihen)\n",
    "print(\"Physische Ausleihen\")\n",
    "print(Phys_Ausleihen)"
   ]
  },
  {
   "cell_type": "code",
   "execution_count": 30,
   "metadata": {},
   "outputs": [
    {
     "data": {
      "text/html": [
       "<div>\n",
       "<style scoped>\n",
       "    .dataframe tbody tr th:only-of-type {\n",
       "        vertical-align: middle;\n",
       "    }\n",
       "\n",
       "    .dataframe tbody tr th {\n",
       "        vertical-align: top;\n",
       "    }\n",
       "\n",
       "    .dataframe thead th {\n",
       "        text-align: right;\n",
       "    }\n",
       "</style>\n",
       "<table border=\"1\" class=\"dataframe\">\n",
       "  <thead>\n",
       "    <tr style=\"text-align: right;\">\n",
       "      <th></th>\n",
       "      <th>Digital</th>\n",
       "      <th>Physical</th>\n",
       "    </tr>\n",
       "  </thead>\n",
       "  <tbody>\n",
       "    <tr>\n",
       "      <th>2015</th>\n",
       "      <td>365</td>\n",
       "      <td>635</td>\n",
       "    </tr>\n",
       "    <tr>\n",
       "      <th>2016</th>\n",
       "      <td>371</td>\n",
       "      <td>629</td>\n",
       "    </tr>\n",
       "    <tr>\n",
       "      <th>2017</th>\n",
       "      <td>418</td>\n",
       "      <td>582</td>\n",
       "    </tr>\n",
       "    <tr>\n",
       "      <th>2018</th>\n",
       "      <td>447</td>\n",
       "      <td>553</td>\n",
       "    </tr>\n",
       "    <tr>\n",
       "      <th>2019</th>\n",
       "      <td>372</td>\n",
       "      <td>628</td>\n",
       "    </tr>\n",
       "    <tr>\n",
       "      <th>2020</th>\n",
       "      <td>546</td>\n",
       "      <td>454</td>\n",
       "    </tr>\n",
       "  </tbody>\n",
       "</table>\n",
       "</div>"
      ],
      "text/plain": [
       "      Digital  Physical\n",
       "2015      365       635\n",
       "2016      371       629\n",
       "2017      418       582\n",
       "2018      447       553\n",
       "2019      372       628\n",
       "2020      546       454"
      ]
     },
     "execution_count": 30,
     "metadata": {},
     "output_type": "execute_result"
    }
   ],
   "source": [
    "# Dictionary erstellen\n",
    "d = {\n",
    "    \"Digital\": pd.Series(Digi_Ausleihen, index = Ausleihjahre),\n",
    "    \"Physical\": pd.Series(Phys_Ausleihen, index = Ausleihjahre),   \n",
    "    }\n",
    "# daraus DataFrame erstellen\n",
    "df = pd.DataFrame(d)\n",
    "df"
   ]
  },
  {
   "cell_type": "code",
   "execution_count": 31,
   "metadata": {},
   "outputs": [
    {
     "data": {
      "image/png": "[encoded data removed]",
      "text/plain": [
       "<Figure size 432x288 with 1 Axes>"
      ]
     },
     "metadata": {
      "needs_background": "light"
     },
     "output_type": "display_data"
    }
   ],
   "source": [
    "# als Diagramm über die Zeit\n",
    "ts = pd.Series(Digi_Ausleihen, index=Ausleihjahre)\n",
    "ts.plot()\n",
    "plt.title(\"Entwicklung der digitalen Ausleihen\")\n",
    "plt.xlabel(\"Ausleihjahr\")\n",
    "plt.ylabel(\"Anzahl Ausleihen\")\n",
    "plt.show()"
   ]
  },
  {
   "cell_type": "code",
   "execution_count": 32,
   "metadata": {},
   "outputs": [
    {
     "data": {
      "image/png": "[encoded data removed]",
      "text/plain": [
       "<Figure size 432x288 with 1 Axes>"
      ]
     },
     "metadata": {
      "needs_background": "light"
     },
     "output_type": "display_data"
    }
   ],
   "source": [
    "# beide in einem Diagramm darstellen\n",
    "df.plot()\n",
    "plt.title(\"Entwicklung des Ausleihtyps über die Jahre\")\n",
    "plt.xlabel(\"Ausleihjahr\")\n",
    "plt.ylabel(\"Anzahl Ausleihen\")\n",
    "plt.show()"
   ]
  },
  {
   "cell_type": "markdown",
   "metadata": {},
   "source": [
    "## 4) Werden ältere Bücher weniger oft ausgeliehen?  \n",
    "Es soll die Anzahl der Ausleihen nach Erscheinungsjahr betrachtet werden."
   ]
  },
  {
   "cell_type": "markdown",
   "metadata": {},
   "source": [
    "**Erster Schritt: Säuberung von Daten**  \n",
    "Die Angabe des Publikationsjahres enthält Abweichungen von der Form \"jjjj\". Für eine weitere Analyse müssen alle überflüssigen Zeichen entfernt werden."
   ]
  },
  {
   "cell_type": "code",
   "execution_count": 83,
   "metadata": {},
   "outputs": [],
   "source": [
    "# es sollen alle Zeichen außer den 4 Zahlen (\\D) des Publikationsjahres entfernt (replace) werden:\n",
    "checkouts[\"publicationyear\"] = checkouts['publicationyear'].str.replace(r'\\D',\"\")\n",
    "# außerdem sind teilweise zwei Jahre angegeben, hier soll nun nur das erste Jahr weiterverwendet werden:\n",
    "checkouts[\"publicationyear\"] = checkouts['publicationyear'].str[:4]\n",
    "\n",
    "#checkouts[\"publicationyear\"]"
   ]
  },
  {
   "cell_type": "code",
   "execution_count": 55,
   "metadata": {},
   "outputs": [
    {
     "data": {
      "text/html": [
       "<div>\n",
       "<style scoped>\n",
       "    .dataframe tbody tr th:only-of-type {\n",
       "        vertical-align: middle;\n",
       "    }\n",
       "\n",
       "    .dataframe tbody tr th {\n",
       "        vertical-align: top;\n",
       "    }\n",
       "\n",
       "    .dataframe thead th {\n",
       "        text-align: right;\n",
       "    }\n",
       "</style>\n",
       "<table border=\"1\" class=\"dataframe\">\n",
       "  <thead>\n",
       "    <tr style=\"text-align: right;\">\n",
       "      <th></th>\n",
       "      <th>publicationyear</th>\n",
       "      <th>checkouts</th>\n",
       "    </tr>\n",
       "  </thead>\n",
       "  <tbody>\n",
       "    <tr>\n",
       "      <th>0</th>\n",
       "      <td>2003</td>\n",
       "      <td>1</td>\n",
       "    </tr>\n",
       "    <tr>\n",
       "      <th>1</th>\n",
       "      <td>2008</td>\n",
       "      <td>1</td>\n",
       "    </tr>\n",
       "    <tr>\n",
       "      <th>2</th>\n",
       "      <td>2019</td>\n",
       "      <td>5</td>\n",
       "    </tr>\n",
       "    <tr>\n",
       "      <th>3</th>\n",
       "      <td>2012</td>\n",
       "      <td>1</td>\n",
       "    </tr>\n",
       "    <tr>\n",
       "      <th>4</th>\n",
       "      <td>2012</td>\n",
       "      <td>1</td>\n",
       "    </tr>\n",
       "    <tr>\n",
       "      <th>...</th>\n",
       "      <td>...</td>\n",
       "      <td>...</td>\n",
       "    </tr>\n",
       "    <tr>\n",
       "      <th>995</th>\n",
       "      <td>2017</td>\n",
       "      <td>22</td>\n",
       "    </tr>\n",
       "    <tr>\n",
       "      <th>996</th>\n",
       "      <td>2015</td>\n",
       "      <td>1</td>\n",
       "    </tr>\n",
       "    <tr>\n",
       "      <th>997</th>\n",
       "      <td>2017</td>\n",
       "      <td>1</td>\n",
       "    </tr>\n",
       "    <tr>\n",
       "      <th>998</th>\n",
       "      <td>2015</td>\n",
       "      <td>1</td>\n",
       "    </tr>\n",
       "    <tr>\n",
       "      <th>999</th>\n",
       "      <td>2016</td>\n",
       "      <td>5</td>\n",
       "    </tr>\n",
       "  </tbody>\n",
       "</table>\n",
       "<p>1000 rows × 2 columns</p>\n",
       "</div>"
      ],
      "text/plain": [
       "    publicationyear  checkouts\n",
       "0              2003          1\n",
       "1              2008          1\n",
       "2              2019          5\n",
       "3              2012          1\n",
       "4              2012          1\n",
       "..              ...        ...\n",
       "995            2017         22\n",
       "996            2015          1\n",
       "997            2017          1\n",
       "998            2015          1\n",
       "999            2016          5\n",
       "\n",
       "[1000 rows x 2 columns]"
      ]
     },
     "execution_count": 55,
     "metadata": {},
     "output_type": "execute_result"
    }
   ],
   "source": [
    "temp = checkouts[[\"publicationyear\", \"checkouts\"]]\n",
    "temp"
   ]
  },
  {
   "cell_type": "markdown",
   "metadata": {},
   "source": [
    "**Zweiter Schritt: Summierung der Ausleihen pro Publikationsjahr**"
   ]
  },
  {
   "cell_type": "code",
   "execution_count": 61,
   "metadata": {},
   "outputs": [
    {
     "data": {
      "text/html": [
       "<div>\n",
       "<style scoped>\n",
       "    .dataframe tbody tr th:only-of-type {\n",
       "        vertical-align: middle;\n",
       "    }\n",
       "\n",
       "    .dataframe tbody tr th {\n",
       "        vertical-align: top;\n",
       "    }\n",
       "\n",
       "    .dataframe thead th {\n",
       "        text-align: right;\n",
       "    }\n",
       "</style>\n",
       "<table border=\"1\" class=\"dataframe\">\n",
       "  <thead>\n",
       "    <tr style=\"text-align: right;\">\n",
       "      <th></th>\n",
       "      <th>checkouts</th>\n",
       "    </tr>\n",
       "    <tr>\n",
       "      <th>publicationyear</th>\n",
       "      <th></th>\n",
       "    </tr>\n",
       "  </thead>\n",
       "  <tbody>\n",
       "    <tr>\n",
       "      <th>1915</th>\n",
       "      <td>1</td>\n",
       "    </tr>\n",
       "    <tr>\n",
       "      <th>1937</th>\n",
       "      <td>1</td>\n",
       "    </tr>\n",
       "    <tr>\n",
       "      <th>1952</th>\n",
       "      <td>1</td>\n",
       "    </tr>\n",
       "    <tr>\n",
       "      <th>1953</th>\n",
       "      <td>14</td>\n",
       "    </tr>\n",
       "    <tr>\n",
       "      <th>1956</th>\n",
       "      <td>1</td>\n",
       "    </tr>\n",
       "    <tr>\n",
       "      <th>1962</th>\n",
       "      <td>60</td>\n",
       "    </tr>\n",
       "    <tr>\n",
       "      <th>1966</th>\n",
       "      <td>1</td>\n",
       "    </tr>\n",
       "    <tr>\n",
       "      <th>1975</th>\n",
       "      <td>1</td>\n",
       "    </tr>\n",
       "    <tr>\n",
       "      <th>1977</th>\n",
       "      <td>2</td>\n",
       "    </tr>\n",
       "    <tr>\n",
       "      <th>1984</th>\n",
       "      <td>2</td>\n",
       "    </tr>\n",
       "    <tr>\n",
       "      <th>1986</th>\n",
       "      <td>2</td>\n",
       "    </tr>\n",
       "    <tr>\n",
       "      <th>1988</th>\n",
       "      <td>1</td>\n",
       "    </tr>\n",
       "    <tr>\n",
       "      <th>1990</th>\n",
       "      <td>1</td>\n",
       "    </tr>\n",
       "    <tr>\n",
       "      <th>1991</th>\n",
       "      <td>1</td>\n",
       "    </tr>\n",
       "    <tr>\n",
       "      <th>1992</th>\n",
       "      <td>1</td>\n",
       "    </tr>\n",
       "    <tr>\n",
       "      <th>1993</th>\n",
       "      <td>2</td>\n",
       "    </tr>\n",
       "    <tr>\n",
       "      <th>1994</th>\n",
       "      <td>4</td>\n",
       "    </tr>\n",
       "    <tr>\n",
       "      <th>1995</th>\n",
       "      <td>5</td>\n",
       "    </tr>\n",
       "    <tr>\n",
       "      <th>1996</th>\n",
       "      <td>2</td>\n",
       "    </tr>\n",
       "    <tr>\n",
       "      <th>1997</th>\n",
       "      <td>1</td>\n",
       "    </tr>\n",
       "    <tr>\n",
       "      <th>1998</th>\n",
       "      <td>5</td>\n",
       "    </tr>\n",
       "    <tr>\n",
       "      <th>1999</th>\n",
       "      <td>23</td>\n",
       "    </tr>\n",
       "    <tr>\n",
       "      <th>2000</th>\n",
       "      <td>21</td>\n",
       "    </tr>\n",
       "    <tr>\n",
       "      <th>2001</th>\n",
       "      <td>3</td>\n",
       "    </tr>\n",
       "    <tr>\n",
       "      <th>2002</th>\n",
       "      <td>8</td>\n",
       "    </tr>\n",
       "    <tr>\n",
       "      <th>2003</th>\n",
       "      <td>15</td>\n",
       "    </tr>\n",
       "    <tr>\n",
       "      <th>2004</th>\n",
       "      <td>24</td>\n",
       "    </tr>\n",
       "    <tr>\n",
       "      <th>2005</th>\n",
       "      <td>61</td>\n",
       "    </tr>\n",
       "    <tr>\n",
       "      <th>2006</th>\n",
       "      <td>17</td>\n",
       "    </tr>\n",
       "    <tr>\n",
       "      <th>2007</th>\n",
       "      <td>37</td>\n",
       "    </tr>\n",
       "    <tr>\n",
       "      <th>2008</th>\n",
       "      <td>46</td>\n",
       "    </tr>\n",
       "    <tr>\n",
       "      <th>2009</th>\n",
       "      <td>132</td>\n",
       "    </tr>\n",
       "    <tr>\n",
       "      <th>2010</th>\n",
       "      <td>104</td>\n",
       "    </tr>\n",
       "    <tr>\n",
       "      <th>2011</th>\n",
       "      <td>203</td>\n",
       "    </tr>\n",
       "    <tr>\n",
       "      <th>2012</th>\n",
       "      <td>152</td>\n",
       "    </tr>\n",
       "    <tr>\n",
       "      <th>2013</th>\n",
       "      <td>210</td>\n",
       "    </tr>\n",
       "    <tr>\n",
       "      <th>2014</th>\n",
       "      <td>200</td>\n",
       "    </tr>\n",
       "    <tr>\n",
       "      <th>2015</th>\n",
       "      <td>475</td>\n",
       "    </tr>\n",
       "    <tr>\n",
       "      <th>2016</th>\n",
       "      <td>180</td>\n",
       "    </tr>\n",
       "    <tr>\n",
       "      <th>2017</th>\n",
       "      <td>248</td>\n",
       "    </tr>\n",
       "    <tr>\n",
       "      <th>2018</th>\n",
       "      <td>463</td>\n",
       "    </tr>\n",
       "    <tr>\n",
       "      <th>2019</th>\n",
       "      <td>1055</td>\n",
       "    </tr>\n",
       "    <tr>\n",
       "      <th>2020</th>\n",
       "      <td>95</td>\n",
       "    </tr>\n",
       "  </tbody>\n",
       "</table>\n",
       "</div>"
      ],
      "text/plain": [
       "                 checkouts\n",
       "publicationyear           \n",
       "1915                     1\n",
       "1937                     1\n",
       "1952                     1\n",
       "1953                    14\n",
       "1956                     1\n",
       "1962                    60\n",
       "1966                     1\n",
       "1975                     1\n",
       "1977                     2\n",
       "1984                     2\n",
       "1986                     2\n",
       "1988                     1\n",
       "1990                     1\n",
       "1991                     1\n",
       "1992                     1\n",
       "1993                     2\n",
       "1994                     4\n",
       "1995                     5\n",
       "1996                     2\n",
       "1997                     1\n",
       "1998                     5\n",
       "1999                    23\n",
       "2000                    21\n",
       "2001                     3\n",
       "2002                     8\n",
       "2003                    15\n",
       "2004                    24\n",
       "2005                    61\n",
       "2006                    17\n",
       "2007                    37\n",
       "2008                    46\n",
       "2009                   132\n",
       "2010                   104\n",
       "2011                   203\n",
       "2012                   152\n",
       "2013                   210\n",
       "2014                   200\n",
       "2015                   475\n",
       "2016                   180\n",
       "2017                   248\n",
       "2018                   463\n",
       "2019                  1055\n",
       "2020                    95"
      ]
     },
     "execution_count": 61,
     "metadata": {},
     "output_type": "execute_result"
    }
   ],
   "source": [
    "# Gruppieren nach Erscheinungsjahr und Summe pro Erscheinungsjahr\n",
    "Ausleihen_nach_jahren = checkouts[[\"publicationyear\", \"checkouts\"]].groupby([\"publicationyear\"]).sum()\n",
    "Ausleihen_nach_jahren"
   ]
  },
  {
   "cell_type": "markdown",
   "metadata": {},
   "source": [
    "**Dritter Schritt: Visualisierung**"
   ]
  },
  {
   "cell_type": "markdown",
   "metadata": {},
   "source": [
    "*Überblick: Anzahl der Ausleihen pro Publikationsjahr*"
   ]
  },
  {
   "cell_type": "code",
   "execution_count": 72,
   "metadata": {},
   "outputs": [
    {
     "data": {
      "image/png": "[encoded data removed]",
      "text/plain": [
       "<Figure size 432x288 with 1 Axes>"
      ]
     },
     "metadata": {
      "needs_background": "light"
     },
     "output_type": "display_data"
    }
   ],
   "source": [
    "# Verteilung nach Publikationsjahren als x-y-Graph plotten\n",
    "Ausleihen_nach_jahren.plot()\n",
    "plt.title(\"Ausleihen nach Publikationsjahr\")\n",
    "plt.xlabel(\"Publikationsjahr\")\n",
    "plt.ylabel(\"Anzahl der Ausleihen\")\n",
    "plt.show()"
   ]
  },
  {
   "cell_type": "markdown",
   "metadata": {},
   "source": [
    "*Wie häufig sind ausleihstarke Publikationsjahre?*"
   ]
  },
  {
   "cell_type": "code",
   "execution_count": 84,
   "metadata": {},
   "outputs": [
    {
     "data": {
      "image/png": "[encoded data removed]",
      "text/plain": [
       "<Figure size 432x288 with 1 Axes>"
      ]
     },
     "metadata": {
      "needs_background": "light"
     },
     "output_type": "display_data"
    }
   ],
   "source": [
    "# Verteilung der Häufigkeit hoher Ausleihzahlen als Histogramm plotten\n",
    "Ausleihen_nach_jahren.plot.hist(bins=100)\n",
    "plt.title(\"Häufigkeit von ausleihstarken Publikationsjahren\")\n",
    "plt.xlabel(\"Anzahl der Ausleihe\")\n",
    "plt.ylabel(\"Häufigkeit\")\n",
    "plt.show()"
   ]
  },
  {
   "cell_type": "code",
   "execution_count": null,
   "metadata": {},
   "outputs": [],
   "source": []
  }
 ],
 "metadata": {
  "kernelspec": {
   "display_name": "Python 3",
   "language": "python",
   "name": "python3"
  },
  "language_info": {
   "codemirror_mode": {
    "name": "ipython",
    "version": 3
   },
   "file_extension": ".py",
   "mimetype": "text/x-python",
   "name": "python",
   "nbconvert_exporter": "python",
   "pygments_lexer": "ipython3",
   "version": "3.8.5"
  }
 },
 "nbformat": 4,
 "nbformat_minor": 4
}
